{
 "cells": [
  {
   "cell_type": "markdown",
   "metadata": {
    "id": "3EkYyDteVnCF"
   },
   "source": [
    "#Read Data From SQL"
   ]
  },
  {
   "cell_type": "code",
   "execution_count": null,
   "metadata": {
    "id": "J-4mxUb_V3PK"
   },
   "outputs": [],
   "source": [
    "import pandas as pd\n",
    "import numpy as np\n",
    "import psycopg2\n",
    "import sqlalchemy\n",
    "import csv\n",
    "import pyodbc"
   ]
  },
  {
   "cell_type": "code",
   "execution_count": null,
   "metadata": {
    "id": "OEKaMCDgVyNA"
   },
   "outputs": [],
   "source": [
    "server = '192.168.50.52' \n",
    "database = 'DefaultEndpoint' \n",
    "username = 'ai4bots' \n",
    "password = 'AiForBots1!' \n",
    "cnxn = pyodbc.connect('DRIVER={SQL Server};SERVER='+server+';DATABASE='+database+';UID='+username+';PWD='+ password)\n",
    "cursor = cnxn.cursor()"
   ]
  },
  {
   "cell_type": "code",
   "execution_count": null,
   "metadata": {
    "id": "EuHyz9qNWQve"
   },
   "outputs": [],
   "source": [
    "data = pd.read_sql_query('''SELECT * FROM DefaultEndpoint.dbo.DeviceHistoryData;''', cnxn)\n",
    "\n",
    "\n",
    "data.to_csv('DeviceHistoryData.csv')"
   ]
  },
  {
   "cell_type": "markdown",
   "metadata": {
    "id": "UEBqjWWFW-p1"
   },
   "source": [
    "#Send Dataset to their server"
   ]
  },
  {
   "cell_type": "code",
   "execution_count": null,
   "metadata": {
    "id": "sKPTn0quW96P"
   },
   "outputs": [],
   "source": [
    "dataset.to_sql('Name_of_table_in_sql_server', cnxn, schema = 'Name', if_exists='append')"
   ]
  },
  {
   "cell_type": "code",
   "execution_count": null,
   "metadata": {
    "id": "vfh1g7PjXr5n"
   },
   "outputs": [],
   "source": []
  },
  {
   "cell_type": "markdown",
   "metadata": {
    "id": "VyPMHTx4XuXk"
   },
   "source": [
    "#Calculate the distance"
   ]
  },
  {
   "cell_type": "code",
   "execution_count": null,
   "metadata": {
    "id": "dxzFsKanX6AG"
   },
   "outputs": [],
   "source": [
    "import math\n",
    "def calculateDistance(x1,y1,x2,y2):\n",
    "  \n",
    "  dy = y2 - y1\n",
    "  dx = x2 - x1\n",
    "  dist = math.sqrt((dx)**2 + (dy)**2)\n",
    "  \n",
    "  return dist\n",
    "\n",
    "def get_distance(d):\n",
    "  v = d.copy()  \n",
    "  v.drop(columns=['date'], inplace=True)  \n",
    "  v[['s_long', 's_lat']] = v[['LocationX', 'LocationY']].shift(-1)\n",
    "  v.dropna(inplace=True)  \n",
    "  v['distance'] = v[['LocationX', 'LocationY', 's_long', 's_lat']].apply\n",
    "  (lambda x: calculateDistance(x['s_long'], x['s_lat'], x['LocationX'], x['LocationY']), axis=1)\n",
    "  return v"
   ]
  },
  {
   "cell_type": "markdown",
   "metadata": {
    "id": "o6JWsc-DYM_9"
   },
   "source": [
    "#Prepare dataset"
   ]
  },
  {
   "cell_type": "code",
   "execution_count": null,
   "metadata": {
    "id": "5fm81sX9YISV"
   },
   "outputs": [],
   "source": [
    "def good_dataset(df):\n",
    "  \n",
    "  df_need12 = df12.loc[:,['Time','Alive'\t,'LastTimeSeen'\t,'ConnectionStage'\t,'Enabled'\n",
    "                     ,'DeviceState'\t,'DeviceStateDescription'\t,'Errors'\t,'Circuit'\t,'DestinationNode'\t,'LocationX'\t,'LocationY']]\n",
    "\n",
    "  df_need12['Time'] = pd.to_datetime(df_need12['Time'],format='%Y%m%d %H:%M:%S')\n",
    "\n",
    "  #extract date\n",
    "  df_need12['date'] = df_need12['Time'].dt.strftime('%D')\n",
    "  df_need12['date'] = pd.to_datetime(df_need12.date)\n",
    "  df_need12.insert(0, 'date', df_need12.pop('date'))\n",
    "  df_need12 = df_need12.sort_values(by='Time')\n",
    "  df_need12 = df_need12.dropna()  \n",
    "  df_need12 = df_need12.sort_values(['date', 'Time']).reset_index(drop=True)\n",
    "\n",
    "  # apply the function to the groups\n",
    "  test = df_need12.groupby('date').apply(get_distance)\n",
    "  test = test.loc[:,[\t'Time','Enabled'\t,'Circuit'\t,'DestinationNode'\t,'LocationX'\t,'LocationY','distance']]\n",
    "\n",
    "  dpp = test.copy()\n",
    "  dpp['Time'] = pd.to_datetime(dpp['Time'],format='%Y%m%d %H:%M:%S')\n",
    "  dpp['Time'] = pd.to_datetime(dpp.Time).dt.tz_localize(None)\n",
    "  dpp['Time'] = dpp['Time'].astype('datetime64[s]')\n",
    "\n",
    "  #remove timezone\n",
    "  dpp['Time'] = pd.to_datetime(dpp.Time).dt.tz_localize(None)\n",
    "\n",
    "  dpp['T_Time']  = pd.to_datetime(dpp['Time']).dt.time\n",
    "  dpp['T_Time']  = pd.to_datetime(dpp['Time']).dt.time\n",
    "  dpp['hour'] = dpp['Time'].dt.hour\n",
    "  \n",
    "  #arranging\n",
    "  zero_column1 = dpp.pop('hour')\n",
    "  dpp.insert(1, 'hour' ,zero_column1)\n",
    "\n",
    "  zero_column2 = dpp.pop('T_Time')\n",
    "  dpp.insert(2, 'T_Time' ,zero_column2)\n",
    "  return dpp"
   ]
  },
  {
   "cell_type": "markdown",
   "metadata": {
    "id": "o2W_kYEwYeHP"
   },
   "source": [
    "#Create a Dynamic Matrix"
   ]
  },
  {
   "cell_type": "code",
   "execution_count": null,
   "metadata": {
    "id": "P-DDZKySYIU6"
   },
   "outputs": [],
   "source": [
    "def get_matrix(df):\n",
    "  \n",
    "  dff = df.loc[(df['distance'] == 0)]\n",
    "\n",
    "\n",
    "  dff = dff.loc[:,['hour','Time','Circuit'\t,'LocationX'\t,'LocationY','distance']]\n",
    "  dff = dff.sort_values(by='Time')\n",
    "\n",
    "  df1 = dff[dff['Circuit'].isin([10, 11, 12, 13, 14, 15])]\n",
    "\n",
    "  df1 = dff.loc[(dff['Circuit'].ne(dff['Circuit'].shift())) | \n",
    "             (dff['Circuit'].ne(dff['Circuit'].shift(-1)))]\n",
    "\n",
    "  dd = df1.copy()\n",
    "  ddt = pd.concat([dd.add_suffix('_pre').shift(), dd], axis=1)\n",
    "  ddt['Time_diff'] = ddt[\"Time\"].diff().apply(lambda x: x/np.timedelta64(1, 's')).fillna(0).astype('int64')\n",
    "\n",
    "  ds = ddt.loc[:,['hour','Time_pre','Time','Circuit' ,'Time_diff']] \n",
    "  ds = ds.dropna()\n",
    "  dfff = ds.loc[:,['hour','Time_pre','Time','Circuit' ,'Time_diff']]\n",
    "\n",
    "  df_pivot_avg = pd.pivot_table(dfff, values='Time_diff', index='Circuit', columns=['hour'],aggfunc= np.mean)\n",
    "\n",
    "  #Transfer row to columns\n",
    "  df_pivot_avg1 = df_pivot_avg.T\n",
    "  df_pivot_avg1  = df_pivot_avg1 .reset_index()\n",
    "  df_pivot_avg1.columns = ['hour','Circuit_10' ,'Circuit_11', 'Circuit_12', 'Circuit_13','Circuit_14','Circuit_15']\n",
    "  df_circuit_avg = df_pivot_avg1.fillna(0)\n",
    "\n",
    "  df_circuit_avg['Circuit10_11'] = df_circuit_avg[\"Circuit_10\"] + df_circuit_avg[\"Circuit_11\"]\n",
    "  df_circuit_avg['Circuit12_13'] = df_circuit_avg[\"Circuit_12\"] + df_circuit_avg[\"Circuit_13\"]\n",
    "  df_circuit_avg['Circuit14_15'] = df_circuit_avg[\"Circuit_14\"] + df_circuit_avg[\"Circuit_15\"]\n",
    "  df_circuit_avg = df_circuit_avg.drop(['Circuit_10', 'Circuit_11','Circuit_12', 'Circuit_13', 'Circuit_14', 'Circuit_15'], axis = 1)\n",
    "  \n",
    "  return df_circuit_avg"
   ]
  },
  {
   "cell_type": "code",
   "execution_count": null,
   "metadata": {
    "id": "VH7P8wkjYIXU"
   },
   "outputs": [],
   "source": []
  },
  {
   "cell_type": "code",
   "execution_count": null,
   "metadata": {
    "id": "mBBi4WxrYIZ0"
   },
   "outputs": [],
   "source": []
  }
 ],
 "metadata": {
  "colab": {
   "collapsed_sections": [],
   "provenance": []
  },
  "kernelspec": {
   "display_name": "Python 3",
   "language": "python",
   "name": "python3"
  },
  "language_info": {
   "codemirror_mode": {
    "name": "ipython",
    "version": 3
   },
   "file_extension": ".py",
   "mimetype": "text/x-python",
   "name": "python",
   "nbconvert_exporter": "python",
   "pygments_lexer": "ipython3",
   "version": "3.7.1"
  }
 },
 "nbformat": 4,
 "nbformat_minor": 1
}
